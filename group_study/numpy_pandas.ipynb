{
 "cells": [
  {
   "metadata": {},
   "cell_type": "markdown",
   "source": "# Numpy",
   "id": "4f2883879da51902"
  },
  {
   "metadata": {
    "ExecuteTime": {
     "end_time": "2025-09-05T04:53:30.120214Z",
     "start_time": "2025-09-05T04:53:29.848172Z"
    }
   },
   "cell_type": "code",
   "source": [
    "import numpy as np\n",
    "import pandas as pd"
   ],
   "id": "cb93027cbb66f6c9",
   "outputs": [],
   "execution_count": 2
  },
  {
   "metadata": {
    "ExecuteTime": {
     "end_time": "2025-09-05T07:09:47.893084Z",
     "start_time": "2025-09-05T07:09:47.889332Z"
    }
   },
   "cell_type": "code",
   "source": [
    "# 단순 numpy array 생성 기초\n",
    "zeros_array = np.zeros((3, 4))\n",
    "zeros_array\n",
    "# np.ones((2, 3))"
   ],
   "id": "dd4b6d81151dab49",
   "outputs": [
    {
     "data": {
      "text/plain": [
       "array([[0., 0., 0., 0.],\n",
       "       [0., 0., 0., 0.],\n",
       "       [0., 0., 0., 0.]])"
      ]
     },
     "execution_count": 93,
     "metadata": {},
     "output_type": "execute_result"
    }
   ],
   "execution_count": 93
  },
  {
   "metadata": {
    "ExecuteTime": {
     "end_time": "2025-09-05T07:13:40.004979Z",
     "start_time": "2025-09-05T07:13:40.002008Z"
    }
   },
   "cell_type": "code",
   "source": [
    "# np.ones(15, dtype=bool).reshape(5, 3)\n",
    "np.full(15, True, dtype=bool).reshape(5, 3)"
   ],
   "id": "26ec5d5a0895f938",
   "outputs": [
    {
     "data": {
      "text/plain": [
       "array([[ True,  True,  True],\n",
       "       [ True,  True,  True],\n",
       "       [ True,  True,  True],\n",
       "       [ True,  True,  True],\n",
       "       [ True,  True,  True]])"
      ]
     },
     "execution_count": 112,
     "metadata": {},
     "output_type": "execute_result"
    }
   ],
   "execution_count": 112
  },
  {
   "metadata": {
    "ExecuteTime": {
     "end_time": "2025-09-05T07:14:02.065977Z",
     "start_time": "2025-09-05T07:14:02.063749Z"
    }
   },
   "cell_type": "code",
   "source": [
    "# np.zeros(15, dtype=bool).reshape(5, 3)\n",
    "# np.full(15, False, dtype=bool).reshape(5, 3)\n",
    "~np.full(15, True, dtype=bool).reshape(5, 3)"
   ],
   "id": "f8546ebcb5becac",
   "outputs": [
    {
     "data": {
      "text/plain": [
       "array([[False, False, False],\n",
       "       [False, False, False],\n",
       "       [False, False, False],\n",
       "       [False, False, False],\n",
       "       [False, False, False]])"
      ]
     },
     "execution_count": 113,
     "metadata": {},
     "output_type": "execute_result"
    }
   ],
   "execution_count": 113
  },
  {
   "metadata": {
    "ExecuteTime": {
     "end_time": "2025-09-08T00:07:10.294429Z",
     "start_time": "2025-09-08T00:07:10.289814Z"
    }
   },
   "cell_type": "code",
   "source": [
    "# np.arange(14)\n",
    "# np.arange(0, 14, 2)\n",
    "arr = np.arange(12).reshape(4, 3)\n",
    "# arr = arr.reshape(-1)\n",
    "arr"
   ],
   "id": "8e20e9332314ddb0",
   "outputs": [
    {
     "data": {
      "text/plain": [
       "array([[ 0,  1,  2],\n",
       "       [ 3,  4,  5],\n",
       "       [ 6,  7,  8],\n",
       "       [ 9, 10, 11]])"
      ]
     },
     "execution_count": 180,
     "metadata": {},
     "output_type": "execute_result"
    }
   ],
   "execution_count": 180
  },
  {
   "metadata": {
    "ExecuteTime": {
     "end_time": "2025-09-05T07:39:30.458118Z",
     "start_time": "2025-09-05T07:39:30.455401Z"
    }
   },
   "cell_type": "code",
   "source": [
    "# Numpy 유용한 계산 방식들\n",
    "\n",
    "# np.sum(arr)\n",
    "# np.sum(arr, axis=1)\n",
    "# np.mean(arr)\n",
    "# np.mean(arr, axis=1)\n",
    "# np.mod(arr, 2)\n",
    "# np.where(arr > 4, arr, 0)\n",
    "# np.random.normal() # 정규분포 난수\n",
    "np.random.normal(0, 1, 30) # 평균 0, 표준편차 1\n",
    "# np.dot(np.arange(12).reshape(3, 4), arr)\n",
    "\n",
    "# 기타 numpy 함수들\n",
    "# 1. 산술 연산 함수\n",
    "# np.add(a, b)\n",
    "# np.subtract(a, b)\n",
    "# np.multiply(a, b) | a * b | 각 요소별로 곱셈을 수행합\n",
    "# np.divide(a, b) | a / b | 각 요소별로 나눗셈을 수행 (결과는 항상 float)\n",
    "# np.floor_divide(a, b) | a // b | 각 요소별로 나눗셈의 정수 몫\n",
    "# np.power(a, b) | a ** b | 각 요소별로 a의 b 제곱을 계산\n",
    "# np.abs(a) 각 요소의 절댓값\n",
    "# np.negative(a) 각 요소의 부호 반전\n",
    "\n",
    "# 2. 삼각함수\n",
    "#  np.sin(a), np.cos(a), np.tan(a)\n",
    "#  np.arcsin(a), np.arccos(a), np.arctan(a)\n",
    "#  np.hypot(a, b) | sqrt(a**2 + b**2) 와 동일, 유클리드 거리를 계산\n",
    "\n",
    "# 3. 비교 및 논리 연산 함수(True/False 배열로 반환)\n",
    "#  np.equal(a, b) 두 요소가 같은지 비교\n",
    "#  np.not_equal(a, b) 두 요소가 다른지 비교\n",
    "#  np.less(a, b) a가 b보다 작은지 비교\n",
    "#  np.less_equal(a, b) | a <= b | a가 b보다 작거나 같은지 비교\n",
    "#  np.greater(a, b) | a > b | a가 b보다 큰지 비교\n",
    "#  np.greater_equal(a, b) | a >= b | a가 b보다 크거나 같은지 비교\n",
    "#  np.logical_and(a, b) 두 요소가 모두 True인지 확인\n",
    "#  np.logical_or(a, b) 두 요소 중 하나라도 True인지 확인\n",
    "#  np.logical_not(a) 각 요소의 논리값을 반전 (True -> False)\n",
    "#  np.isnan(a) 각 요소가 NaN(Not a Number)인지 확인\n",
    "#  np.isinf(a) 각 요소가 무한대(infinity)인지 확인\n",
    "\n",
    "# 기타 numpy 수학함수\n",
    "# np.sqrt(a) 각 요소의 제곱근을 계산\n",
    "# np.exp(a) 각 요소의 지수 함수(e^a) 값을 계산\n",
    "# np.log(a), np.log10(a), np.log2(a) 자연로그, 상용로그(밑 10), 이진로그(밑 2)를 계산\n",
    "# np.ceil(a) 올림 연산\n",
    "# np.floor(a) 내림 연산\n",
    "# np.round(a, decimals=n) 각 요소를 소수점 n자리까지 반올림\n",
    "# np.maximum(a, b), np.minimum(a, b) 두 배열의 각 요소를 비교하여 더 큰 값 또는 더 작은 값 선택\n",
    "# np.clip(a, min, max) 배열 a의 값을 min보다 작으면 min, max보다 크면 max로 제한"
   ],
   "id": "6eeba0f94b06c7fa",
   "outputs": [
    {
     "data": {
      "text/plain": [
       "array([-0.19330019,  0.88124547, -0.8707687 ,  0.81488346,  0.58645017,\n",
       "       -0.55488937, -0.32322683, -0.12320271,  1.35406   ,  0.57612942,\n",
       "       -1.73707828, -0.78038137, -0.41727292,  0.52887787, -1.66687497,\n",
       "       -0.94241094,  0.42369966, -0.33425453, -0.41583465,  0.62863443,\n",
       "        1.45376311,  0.97711017, -2.30115819, -0.02112213, -1.54907248,\n",
       "        1.67597808, -0.9734414 ,  0.371848  ,  2.25211979,  1.37633686])"
      ]
     },
     "execution_count": 131,
     "metadata": {},
     "output_type": "execute_result"
    }
   ],
   "execution_count": 131
  },
  {
   "metadata": {
    "ExecuteTime": {
     "end_time": "2025-09-05T07:28:40.770385Z",
     "start_time": "2025-09-05T07:28:40.767885Z"
    }
   },
   "cell_type": "code",
   "source": [
    "data = np.random.randint(1, 100, 30)\n",
    "\n",
    "print(f\"원본 데이터: {data}\")\n",
    "\n",
    "# False로 초기화된 마스크 생성\n",
    "mask = np.zeros(30, dtype=bool)\n",
    "print(mask)\n",
    "\n",
    "# 조건에 따라 마스크 업데이트\n",
    "mask[data > 50] = True  # 50보다 큰 값들만 True로 변경\n",
    "\n",
    "print(f'\\n\\n{mask}')"
   ],
   "id": "5c40a91dccf5cbb",
   "outputs": [
    {
     "name": "stdout",
     "output_type": "stream",
     "text": [
      "원본 데이터: [54 55 83 56 75 22 61 80 64 84 31 92 58 73 71 71  3 53 41 66 24 27 11 15\n",
      " 10 51 40 58 18 51]\n",
      "[False False False False False False False False False False False False\n",
      " False False False False False False False False False False False False\n",
      " False False False False False False]\n",
      "\n",
      "\n",
      "[ True  True  True  True  True False  True  True  True  True False  True\n",
      "  True  True  True  True False  True False  True False False False False\n",
      " False  True False  True False  True]\n"
     ]
    }
   ],
   "execution_count": 128
  },
  {
   "metadata": {
    "ExecuteTime": {
     "end_time": "2025-09-08T00:36:58.851846Z",
     "start_time": "2025-09-08T00:36:58.844509Z"
    }
   },
   "cell_type": "code",
   "source": [
    "# np.einsum() - Einstein Summation Convention 다차원 배열(텐서) 연산을 정의하고 실행\n",
    "# 가능 연산 리스트 - 행렬 곱셈, 전치 행렬, 대각합(Trace), 배열의 합, 배열의 곱, 텐서 곱, 텐서 축소 등 복잡한 모든 연산(복잡한 연산의 경우나 연산이 2~3개 이상 묶여있을때 np 보다 빠름. 단순 행렬곱/요소별 곱/단순합은 np 가 빠름)\n",
    "\n",
    "# 행렬 곱셈을 einsum으로\n",
    "A = np.array([[1, 2], [3, 4]])\n",
    "B = np.array([[5, 6], [7, 8]])\n",
    "result = np.einsum('ij,jk->ik', A, B) # np.einsum() 는 문자열로 된 수식을 받아서 연산\n",
    "print(result)\n",
    "\n",
    "# 복잡한 텐서 연산 - 배치 행렬 곱셈\n",
    "batch_A = np.random.rand(3, 2, 2)\n",
    "batch_B = np.random.rand(3, 2, 2)\n",
    "batch_result = np.einsum('bij,bjk->bik', batch_A, batch_B)\n",
    "# 배치 크기 3에서 각각 2x2 행렬곱 수행\n",
    "print(f'\\n\\n---batch_A ---\\n{batch_A}')\n",
    "print(f'\\n\\n---batch_B ---\\n{batch_B}')\n",
    "print(f'\\n\\n---batch_result ---\\n{batch_result}')\n",
    "\n",
    "# 전치행렬 'ij->ji' : (i,j) 인덱스를 (j,i)로 바꿈\n",
    "transpose_A = np.einsum('ij->ji', A)\n",
    "print(f\"einsum 전치 행렬:\\n{transpose_A}\")\n",
    "# np.einsum('ii->', C)는 대각합 구하기\n",
    "# np.einsum('ii', A) 대각행렬 (A.diagonal() 보다 빠름)"
   ],
   "id": "3d3d8c2660f2be30",
   "outputs": [
    {
     "name": "stdout",
     "output_type": "stream",
     "text": [
      "[[19 22]\n",
      " [43 50]]\n",
      "\n",
      "\n",
      "---batch_A ---\n",
      "[[[0.66811029 0.34991841]\n",
      "  [0.34137018 0.7947765 ]]\n",
      "\n",
      " [[0.84811396 0.18609525]\n",
      "  [0.28706422 0.90382691]]\n",
      "\n",
      " [[0.20997255 0.67639078]\n",
      "  [0.68266029 0.45554966]]]\n",
      "\n",
      "\n",
      "---batch_B ---\n",
      "[[[0.40588436 0.88621675]\n",
      "  [0.68019789 0.1774999 ]]\n",
      "\n",
      " [[0.7268249  0.363909  ]\n",
      "  [0.92207687 0.41413495]]\n",
      "\n",
      " [[0.78484155 0.06620748]\n",
      "  [0.94751316 0.883315  ]]]\n",
      "\n",
      "\n",
      "---batch_result ---\n",
      "[[[0.50918928 0.65420101]\n",
      "  [0.67916212 0.44360072]]\n",
      "\n",
      " [[0.78802448 0.38570485]\n",
      "  [1.04204331 0.47877157]]\n",
      "\n",
      " [[0.80568435 0.61136787]\n",
      "  [0.96741946 0.44759107]]]\n",
      "einsum 전치 행렬:\n",
      "[[1 3]\n",
      " [2 4]]\n"
     ]
    }
   ],
   "execution_count": 182
  },
  {
   "metadata": {
    "ExecuteTime": {
     "end_time": "2025-09-07T00:54:10.599790Z",
     "start_time": "2025-09-07T00:54:10.597613Z"
    }
   },
   "cell_type": "code",
   "source": [
    "small_array = np.array([1, 2, 3])\n",
    "print(f'{small_array}\\n')\n",
    "# np.broadcast_to - 메모리 복사 없이 배열을 확장하여 대용량 데이터 처리 시 메모리 효율성을 극대화. 단, 생성된 배열은 쓰기가 불가능한 읽기전용 뷰\n",
    "broadcasted = np.broadcast_to(small_array, (4, 3))\n",
    "print(f'{broadcasted}\\n')\n",
    "\n",
    "# 메모리 공유 확인\n",
    "print(np.shares_memory(small_array, broadcasted))  # True!"
   ],
   "id": "17b1a70d68c2d737",
   "outputs": [
    {
     "name": "stdout",
     "output_type": "stream",
     "text": [
      "[1 2 3]\n",
      "\n",
      "[[1 2 3]\n",
      " [1 2 3]\n",
      " [1 2 3]\n",
      " [1 2 3]]\n",
      "\n",
      "True\n"
     ]
    }
   ],
   "execution_count": 142
  },
  {
   "metadata": {
    "ExecuteTime": {
     "end_time": "2025-09-08T01:13:13.055406Z",
     "start_time": "2025-09-08T01:13:13.050185Z"
    }
   },
   "cell_type": "code",
   "source": [
    "from numpy.lib.stride_tricks import sliding_window_view\n",
    "\n",
    "# 메모리를 효율적으로 윈도우 연산을 수행하여 시계열 분석과 신호 처리에서 핵심\n",
    "time_series = np.array([1, 2, 3, 4, 5, 6, 7, 8, 9, 10])\n",
    "windowed = sliding_window_view(time_series, window_shape=3)\n",
    "print(f'{windowed}\\n')\n",
    "\n",
    "# 각 윈도우의 평균 계산\n",
    "window_means = np.mean(windowed, axis=0)\n",
    "window_means"
   ],
   "id": "9707b94e111d079b",
   "outputs": [
    {
     "name": "stdout",
     "output_type": "stream",
     "text": [
      "[[ 1  2  3]\n",
      " [ 2  3  4]\n",
      " [ 3  4  5]\n",
      " [ 4  5  6]\n",
      " [ 5  6  7]\n",
      " [ 6  7  8]\n",
      " [ 7  8  9]\n",
      " [ 8  9 10]]\n",
      "\n",
      "[[ 1  2  3  4]\n",
      " [ 2  3  4  5]\n",
      " [ 3  4  5  6]\n",
      " [ 4  5  6  7]\n",
      " [ 5  6  7  8]\n",
      " [ 6  7  8  9]\n",
      " [ 7  8  9 10]]\n",
      "\n"
     ]
    },
    {
     "data": {
      "text/plain": [
       "array([4., 5., 6., 7.])"
      ]
     },
     "execution_count": 183,
     "metadata": {},
     "output_type": "execute_result"
    }
   ],
   "execution_count": 183
  },
  {
   "metadata": {
    "ExecuteTime": {
     "end_time": "2025-09-08T01:14:04.352476Z",
     "start_time": "2025-09-08T01:14:04.348479Z"
    }
   },
   "cell_type": "code",
   "source": [
    "# 함수 f(x) = x²의 gradient 계산\n",
    "x = np.linspace(0, 5, 11)\n",
    "y = x**2\n",
    "gradient_y = np.gradient(y, x) # np.gradient() - 수치해석과 물리 시뮬레이션에서 미분 계산이 필요할 때 사용\n",
    "\n",
    "print(f\"x = {x} \\ny = {y}\")\n",
    "print(f\"이론값 (2x): {(2*x).round(2)}\")\n",
    "print(f\"수치 미분: {gradient_y.round(2)}\")"
   ],
   "id": "e7dc4afcb02fc11c",
   "outputs": [
    {
     "name": "stdout",
     "output_type": "stream",
     "text": [
      "x = [0.  0.5 1.  1.5 2.  2.5 3.  3.5 4.  4.5 5. ] \n",
      "y = [ 0.    0.25  1.    2.25  4.    6.25  9.   12.25 16.   20.25 25.  ]\n",
      "이론값 (2x): [ 0.  1.  2.  3.  4.  5.  6.  7.  8.  9. 10.]\n",
      "수치 미분: [0.5 1.  2.  3.  4.  5.  6.  7.  8.  9.  9.5]\n"
     ]
    }
   ],
   "execution_count": 185
  },
  {
   "metadata": {
    "ExecuteTime": {
     "end_time": "2025-09-07T00:59:19.202549Z",
     "start_time": "2025-09-07T00:59:19.101504Z"
    }
   },
   "cell_type": "code",
   "source": [
    "# 신호 주파수 분석\n",
    "t = np.linspace(0, 1, 100) # 0부터 1까지의 구간을 100개의 동일한 간격으로 나눈 숫자 배열 t를 생성(= 신호의 시간 축 생성)\n",
    "signal = np.sin(2 * np.pi * 2 * t) + 0.5 * np.sin(2 * np.pi * 5 * t) # 주파수가 2Hz인 사인파와 주파수가 5Hz이고 진폭이 첫 번째 파의 절반인 사인파를 결합하여 새로운 신호를 생성\n",
    "\n",
    "# 푸리에 정리(Fourier Theorem): 모든 주기적 함수는 서로 다른 주파수를 가진 사인파의 합으로 표현 가능\n",
    "# np.fft.fft() - 고속 푸리에 변환(신호 처리, 이미지 분석, 오디오 처리에서 주파수 도메인 분석에 필수)\n",
    "# FFT는 신호를 시간 도메인에서 주파수 도메인으로 변환하여 신호를 구성하는 주파수 성분들을 분석할 수 있게 함\n",
    "fft_result = np.fft.fft(signal)\n",
    "# FFT 결과의 각 성분에 해당하는 주파수를 계산\n",
    "# len(signal)은 신호의 데이터 포인트 수(100)\n",
    "# t[1] - t[0]은 샘플링 간격(시간 축에서 연속된 두 점 사이의 간격)\n",
    "frequencies = np.fft.fftfreq(len(signal), t[1] - t[0])\n",
    "\n",
    "# 주요 주파수 성분 추출\n",
    "# np.abs(fft_result)는 FFT 결과(복소수)의 크기를 계산하여 각 주파수 성분의 강도를 나타냄\n",
    "# np.argsort()는 주파수 강도를 오름차순으로 정렬하고 해당 인덱스를 반환.\n",
    "# [-4:]는 가장 큰 4개의 값을 선택. 실수 신호의 FFT 결과는 대칭적이므로 각 주파수가 양수와 음수 두 번 나타나기 때문에 4개를 선택합니다.\n",
    "dominant_freq_idx = np.argsort(np.abs(fft_result))[-4:] # 가장 영향력 있는 주파수 성분의 인덱스를 찾기\n",
    "dominant_freqs = frequencies[dominant_freq_idx] #  이전 단계에서 찾은 인덱스를 사용하여 frequencies 배열에서 실제 주파수 값을 가져오기\n",
    "print(f\"주요 주파수: {np.abs(dominant_freqs[dominant_freqs > 0]).round(1)} Hz\")"
   ],
   "id": "69f0a333f3ca63f",
   "outputs": [
    {
     "name": "stdout",
     "output_type": "stream",
     "text": [
      "주요 주파수: [5. 2.] Hz\n"
     ]
    }
   ],
   "execution_count": 150
  },
  {
   "metadata": {},
   "cell_type": "markdown",
   "source": "# Pandas",
   "id": "d23472a74bbd5e5c"
  },
  {
   "metadata": {
    "ExecuteTime": {
     "end_time": "2025-09-05T07:08:20.219085Z",
     "start_time": "2025-09-05T07:08:20.206145Z"
    }
   },
   "cell_type": "code",
   "source": [
    "data = {\n",
    "    'name': ['Alice', 'Bob', 'Charlie'],\n",
    "    'age': [25, 30, 35],\n",
    "    'salary': [50000, 60000, 70000]\n",
    "}\n",
    "df = pd.DataFrame(data)\n",
    "print(f'{df.info()}\\n\\n{df.describe()}\\n\\n{df.head(2)}\\n\\n{df.tail(1)}')"
   ],
   "id": "60d35cd510f607fd",
   "outputs": [
    {
     "name": "stdout",
     "output_type": "stream",
     "text": [
      "<class 'pandas.core.frame.DataFrame'>\n",
      "RangeIndex: 3 entries, 0 to 2\n",
      "Data columns (total 3 columns):\n",
      " #   Column  Non-Null Count  Dtype \n",
      "---  ------  --------------  ----- \n",
      " 0   name    3 non-null      object\n",
      " 1   age     3 non-null      int64 \n",
      " 2   salary  3 non-null      int64 \n",
      "dtypes: int64(2), object(1)\n",
      "memory usage: 204.0+ bytes\n",
      "None\n",
      "\n",
      "        age   salary\n",
      "count   3.0      3.0\n",
      "mean   30.0  60000.0\n",
      "std     5.0  10000.0\n",
      "min    25.0  50000.0\n",
      "25%    27.5  55000.0\n",
      "50%    30.0  60000.0\n",
      "75%    32.5  65000.0\n",
      "max    35.0  70000.0\n",
      "\n",
      "    name  age  salary\n",
      "0  Alice   25   50000\n",
      "1    Bob   30   60000\n",
      "\n",
      "      name  age  salary\n",
      "2  Charlie   35   70000\n"
     ]
    }
   ],
   "execution_count": 89
  },
  {
   "metadata": {
    "ExecuteTime": {
     "end_time": "2025-09-07T01:02:22.346758Z",
     "start_time": "2025-09-07T01:02:22.340208Z"
    }
   },
   "cell_type": "code",
   "source": [
    "# 컬럼 선택\n",
    "ages = df['age']  # 단일\n",
    "subset = df[['name', 'age']]  # 복수\n",
    "print(f'{ages}\\n\\n{subset}\\n')\n",
    "\n",
    "# 인덱싱\n",
    "row_data = df.loc[0]  # 라벨 기반\n",
    "cell_value = df.iloc[0, 1]  # 특정 위치 기반\n",
    "print(f'{row_data}\\n\\ncell_value: {cell_value}\\n')\n",
    "\n",
    "# 9. apply() - 사용자 정의 함수 적용\n",
    "df['age_category'] = df['age'].apply(lambda x: 'Young' if x < 30 else 'Senior')\n",
    "\n",
    "# 10. merge() - 데이터 병합\n",
    "# merged = pd.merge(df1, df2, on='key_column')\n",
    "df"
   ],
   "id": "ff6141f6da9b2c5",
   "outputs": [
    {
     "name": "stdout",
     "output_type": "stream",
     "text": [
      "0    25\n",
      "1    30\n",
      "2    35\n",
      "Name: age, dtype: int64\n",
      "\n",
      "      name  age\n",
      "0    Alice   25\n",
      "1      Bob   30\n",
      "2  Charlie   35\n",
      "\n",
      "name            Alice\n",
      "age                25\n",
      "salary          50000\n",
      "age_category    Young\n",
      "Name: 0, dtype: object\n",
      "\n",
      "cell_value: 25\n",
      "\n"
     ]
    },
    {
     "data": {
      "text/plain": [
       "      name  age  salary age_category\n",
       "0    Alice   25   50000        Young\n",
       "1      Bob   30   60000       Senior\n",
       "2  Charlie   35   70000       Senior"
      ],
      "text/html": [
       "<div>\n",
       "<style scoped>\n",
       "    .dataframe tbody tr th:only-of-type {\n",
       "        vertical-align: middle;\n",
       "    }\n",
       "\n",
       "    .dataframe tbody tr th {\n",
       "        vertical-align: top;\n",
       "    }\n",
       "\n",
       "    .dataframe thead th {\n",
       "        text-align: right;\n",
       "    }\n",
       "</style>\n",
       "<table border=\"1\" class=\"dataframe\">\n",
       "  <thead>\n",
       "    <tr style=\"text-align: right;\">\n",
       "      <th></th>\n",
       "      <th>name</th>\n",
       "      <th>age</th>\n",
       "      <th>salary</th>\n",
       "      <th>age_category</th>\n",
       "    </tr>\n",
       "  </thead>\n",
       "  <tbody>\n",
       "    <tr>\n",
       "      <th>0</th>\n",
       "      <td>Alice</td>\n",
       "      <td>25</td>\n",
       "      <td>50000</td>\n",
       "      <td>Young</td>\n",
       "    </tr>\n",
       "    <tr>\n",
       "      <th>1</th>\n",
       "      <td>Bob</td>\n",
       "      <td>30</td>\n",
       "      <td>60000</td>\n",
       "      <td>Senior</td>\n",
       "    </tr>\n",
       "    <tr>\n",
       "      <th>2</th>\n",
       "      <td>Charlie</td>\n",
       "      <td>35</td>\n",
       "      <td>70000</td>\n",
       "      <td>Senior</td>\n",
       "    </tr>\n",
       "  </tbody>\n",
       "</table>\n",
       "</div>"
      ]
     },
     "execution_count": 154,
     "metadata": {},
     "output_type": "execute_result"
    }
   ],
   "execution_count": 154
  },
  {
   "metadata": {
    "ExecuteTime": {
     "end_time": "2025-09-05T07:05:58.218039Z",
     "start_time": "2025-09-05T07:05:58.211566Z"
    }
   },
   "cell_type": "code",
   "source": [
    "series = pd.Series([10, 20, 30, 40], index=['a', 'b', 'c', 'd'])\n",
    "series"
   ],
   "id": "5b1f60cadab09b82",
   "outputs": [
    {
     "data": {
      "text/plain": [
       "a    10\n",
       "b    20\n",
       "c    30\n",
       "d    40\n",
       "dtype: int64"
      ]
     },
     "execution_count": 79,
     "metadata": {},
     "output_type": "execute_result"
    }
   ],
   "execution_count": 79
  },
  {
   "metadata": {
    "ExecuteTime": {
     "end_time": "2025-09-07T01:04:05.609988Z",
     "start_time": "2025-09-07T01:04:05.591228Z"
    }
   },
   "cell_type": "code",
   "source": [
    "# pd.eval() & pd.query() - 대용량 데이터에서 NumExpr 엔진을 활용해 일반 pandas 연산보다 2~10배 빠른 성능\n",
    "\n",
    "# 대용량 데이터프레임\n",
    "df = pd.DataFrame({\n",
    "    'A': np.random.randn(10000),\n",
    "    'B': np.random.randn(10000),\n",
    "    'C': np.random.randn(10000),\n",
    "    'category': np.random.choice(['X', 'Y', 'Z'], 10000)\n",
    "})\n",
    "print(df)\n",
    "# eval()로 복잡한 연산 최적화 (NumExpr 엔진 사용)\n",
    "df['D'] = df.eval('A * B + C**2')\n",
    "print(f'\\n\\n{df}\\n')\n",
    "# query()로 SQL 스타일 필터링\n",
    "filtered = df.query('(A > 0) & (B < 0) & (category == \"X\")')\n",
    "print(f'\\n\\n{filtered}\\n')"
   ],
   "id": "7aecf65e4d6c1859",
   "outputs": [
    {
     "name": "stdout",
     "output_type": "stream",
     "text": [
      "             A         B         C category\n",
      "0    -0.764052  1.371044 -1.422681        X\n",
      "1     0.370576  0.714923 -0.933745        Y\n",
      "2    -0.766909 -0.457868  0.208545        Z\n",
      "3     0.976870 -0.728505 -2.012161        Y\n",
      "4    -0.472971 -0.782459 -0.746723        Y\n",
      "...        ...       ...       ...      ...\n",
      "9995  0.568243 -2.031136  0.551861        Z\n",
      "9996  0.842827 -3.032821 -0.070290        Z\n",
      "9997 -0.613677 -0.245133  0.324860        Z\n",
      "9998  1.664018 -0.017434 -0.893055        Z\n",
      "9999 -0.705668  0.671311 -0.700962        X\n",
      "\n",
      "[10000 rows x 4 columns]\n",
      "\n",
      "\n",
      "             A         B         C category         D\n",
      "0    -0.764052  1.371044 -1.422681        X  0.976473\n",
      "1     0.370576  0.714923 -0.933745        Y  1.136814\n",
      "2    -0.766909 -0.457868  0.208545        Z  0.394634\n",
      "3     0.976870 -0.728505 -2.012161        Y  3.337137\n",
      "4    -0.472971 -0.782459 -0.746723        Y  0.927675\n",
      "...        ...       ...       ...      ...       ...\n",
      "9995  0.568243 -2.031136  0.551861        Z -0.849627\n",
      "9996  0.842827 -3.032821 -0.070290        Z -2.551203\n",
      "9997 -0.613677 -0.245133  0.324860        Z  0.255967\n",
      "9998  1.664018 -0.017434 -0.893055        Z  0.768538\n",
      "9999 -0.705668  0.671311 -0.700962        X  0.017626\n",
      "\n",
      "[10000 rows x 5 columns]\n",
      "\n",
      "\n",
      "\n",
      "             A         B         C category         D\n",
      "14    1.192807 -1.009994 -0.492386        X -0.962285\n",
      "28    0.236623 -0.292135 -1.355936        X  1.769437\n",
      "46    0.211802 -0.342588 -0.539375        X  0.218364\n",
      "57    0.410221 -0.293889  0.780439        X  0.488526\n",
      "60    1.295940 -0.090323 -1.088128        X  1.066970\n",
      "...        ...       ...       ...      ...       ...\n",
      "9933  1.013342 -0.255048 -0.565250        X  0.061056\n",
      "9945  0.093641 -0.164942 -0.750966        X  0.548504\n",
      "9966  0.046635 -2.205336 -0.922217        X  0.747639\n",
      "9969  0.384840 -1.586014 -0.047176        X -0.608136\n",
      "9989  0.265177 -0.906200  0.435268        X -0.050844\n",
      "\n",
      "[798 rows x 5 columns]\n",
      "\n"
     ]
    }
   ],
   "execution_count": 156
  },
  {
   "metadata": {
    "ExecuteTime": {
     "end_time": "2025-09-07T01:09:18.714349Z",
     "start_time": "2025-09-07T01:09:18.708429Z"
    }
   },
   "cell_type": "code",
   "source": [
    "# MultiIndex - 계층적 인덱싱\n",
    "\n",
    "# 다차원 인덱스 생성\n",
    "regions = ['North', 'South', 'East']\n",
    "products = ['A', 'B']\n",
    "# pd.MultiIndex.from_product() - 여러개의 리스트나 배열의 모든 요소를 데카르트 곱을 하여 계층적 인덱스 생성\n",
    "index = pd.MultiIndex.from_product([regions, products], names=['Region', 'Product'])\n",
    "print(f'\\n\\n{index}\\n')\n",
    "\n",
    "multi_df = pd.DataFrame({\n",
    "    'Sales': np.random.randint(100, 1000, len(index)),\n",
    "    'Profit': np.random.randint(10, 100, len(index))\n",
    "}, index=index)\n",
    "print(f'\\n\\n{multi_df}\\n')\n",
    "\n",
    "# 계층별 집계\n",
    "regional_sales = multi_df.groupby(level='Region')['Sales'].sum()\n",
    "print(f'\\n-- Regional sales --\\n{regional_sales}\\n')\n",
    "profit_sales = multi_df.groupby(level='Region')['Profit'].sum()\n",
    "print(f'\\n-- Regional profit --\\n{profit_sales}\\n')\n",
    "\n",
    "# 특정 지역 데이터 선택\n",
    "north_data = multi_df.loc['North']\n",
    "print(f'\\n\\n{north_data}\\n')"
   ],
   "id": "e83327801402566",
   "outputs": [
    {
     "name": "stdout",
     "output_type": "stream",
     "text": [
      "\n",
      "\n",
      "MultiIndex([('North', 'A'),\n",
      "            ('North', 'B'),\n",
      "            ('South', 'A'),\n",
      "            ('South', 'B'),\n",
      "            ( 'East', 'A'),\n",
      "            ( 'East', 'B')],\n",
      "           names=['Region', 'Product'])\n",
      "\n",
      "\n",
      "\n",
      "                Sales  Profit\n",
      "Region Product               \n",
      "North  A          632      49\n",
      "       B          757      62\n",
      "South  A          285      87\n",
      "       B          754      70\n",
      "East   A          410      96\n",
      "       B          866      16\n",
      "\n",
      "\n",
      "-- Regional sales --\n",
      "Region\n",
      "East     1276\n",
      "North    1389\n",
      "South    1039\n",
      "Name: Sales, dtype: int64\n",
      "\n",
      "\n",
      "-- Regional profit --\n",
      "Region\n",
      "East     112\n",
      "North    111\n",
      "South    157\n",
      "Name: Profit, dtype: int64\n",
      "\n",
      "\n",
      "\n",
      "         Sales  Profit\n",
      "Product               \n",
      "A          632      49\n",
      "B          757      62\n",
      "\n"
     ]
    }
   ],
   "execution_count": 162
  },
  {
   "metadata": {
    "ExecuteTime": {
     "end_time": "2025-09-07T01:10:45.447602Z",
     "start_time": "2025-09-07T01:10:45.440245Z"
    }
   },
   "cell_type": "code",
   "source": [
    "# df.transform() - 그룹별 변환 함수로서 그룹 내에서 데이터 정규화, 이상치 탐지, 상대적 순위 계산 등에 활용\n",
    "\n",
    "# 그룹별 정규화 (Z-score)\n",
    "sample_df = pd.DataFrame({\n",
    "    'group': ['A', 'A', 'B', 'B', 'C', 'C'] * 5,\n",
    "    'value': np.random.randn(30)\n",
    "})\n",
    "print(f'\\n\\n{sample_df}\\n')\n",
    "\n",
    "# 그룹별 Z-score 정규화\n",
    "sample_df['z_score'] = sample_df.groupby('group')['value'].transform(\n",
    "    # Z-score 공식, 그룹 내의 각 데이터 포인트(x의 각 요소)가 해당 그룹의 평균으로부터 표준편차의 몇 배만큼 떨어져 있는지를 계산\n",
    "    lambda x: (x - x.mean()) / x.std()\n",
    ")\n",
    "print(f'\\n\\n{sample_df}\\n')\n",
    "\n",
    "# 그룹별 백분위수\n",
    "sample_df['percentile'] = sample_df.groupby('group')['value'].transform(\n",
    "    lambda x: x.rank(pct=True)\n",
    ")\n",
    "print(f'\\n\\n{sample_df}\\n')"
   ],
   "id": "a621c4c917c7be36",
   "outputs": [
    {
     "name": "stdout",
     "output_type": "stream",
     "text": [
      "\n",
      "\n",
      "   group     value\n",
      "0      A -0.124147\n",
      "1      A  1.338908\n",
      "2      B  1.147175\n",
      "3      B  0.427066\n",
      "4      C -1.847358\n",
      "5      C  1.046540\n",
      "6      A  0.026593\n",
      "7      A -0.543954\n",
      "8      B -1.104011\n",
      "9      B -0.840499\n",
      "10     C -1.733174\n",
      "11     C -0.279435\n",
      "12     A -0.592736\n",
      "13     A  0.132931\n",
      "14     B  0.857369\n",
      "15     B -0.063790\n",
      "16     C  0.038291\n",
      "17     C  0.696259\n",
      "18     A  0.475673\n",
      "19     A  0.966104\n",
      "20     B -0.544970\n",
      "21     B -1.001805\n",
      "22     C -0.048657\n",
      "23     C -0.906836\n",
      "24     A  1.088824\n",
      "25     A  1.882834\n",
      "26     B -0.597227\n",
      "27     B  0.480381\n",
      "28     C -0.535324\n",
      "29     C -0.360935\n",
      "\n",
      "\n",
      "\n",
      "   group     value   z_score\n",
      "0      A -0.124147 -0.709905\n",
      "1      A  1.338908  1.052726\n",
      "2      B  1.147175  1.570435\n",
      "3      B  0.427066  0.680820\n",
      "4      C -1.847358 -1.564897\n",
      "5      C  1.046540  1.549087\n",
      "6      A  0.026593 -0.528300\n",
      "7      A -0.543954 -1.215672\n",
      "8      B -1.104011 -1.210658\n",
      "9      B -0.840499 -0.885118\n",
      "10     C -1.733174 -1.442029\n",
      "11     C -0.279435  0.122270\n",
      "12     A -0.592736 -1.274443\n",
      "13     A  0.132931 -0.400188\n",
      "14     B  0.857369  1.212413\n",
      "15     B -0.063790  0.074422\n",
      "16     C  0.038291  0.464159\n",
      "17     C  0.696259  1.172167\n",
      "18     A  0.475673  0.012735\n",
      "19     A  0.966104  0.603587\n",
      "20     B -0.544970 -0.520023\n",
      "21     B -1.001805 -1.084393\n",
      "22     C -0.048657  0.370598\n",
      "23     C -0.906836 -0.552846\n",
      "24     A  1.088824  0.751434\n",
      "25     A  1.882834  1.708027\n",
      "26     B -0.597227 -0.584582\n",
      "27     B  0.480381  0.746685\n",
      "28     C -0.535324 -0.153080\n",
      "29     C -0.360935  0.034572\n",
      "\n",
      "\n",
      "\n",
      "   group     value   z_score  percentile\n",
      "0      A -0.124147 -0.709905         0.3\n",
      "1      A  1.338908  1.052726         0.9\n",
      "2      B  1.147175  1.570435         1.0\n",
      "3      B  0.427066  0.680820         0.7\n",
      "4      C -1.847358 -1.564897         0.1\n",
      "5      C  1.046540  1.549087         1.0\n",
      "6      A  0.026593 -0.528300         0.4\n",
      "7      A -0.543954 -1.215672         0.2\n",
      "8      B -1.104011 -1.210658         0.1\n",
      "9      B -0.840499 -0.885118         0.3\n",
      "10     C -1.733174 -1.442029         0.2\n",
      "11     C -0.279435  0.122270         0.6\n",
      "12     A -0.592736 -1.274443         0.1\n",
      "13     A  0.132931 -0.400188         0.5\n",
      "14     B  0.857369  1.212413         0.9\n",
      "15     B -0.063790  0.074422         0.6\n",
      "16     C  0.038291  0.464159         0.8\n",
      "17     C  0.696259  1.172167         0.9\n",
      "18     A  0.475673  0.012735         0.6\n",
      "19     A  0.966104  0.603587         0.7\n",
      "20     B -0.544970 -0.520023         0.5\n",
      "21     B -1.001805 -1.084393         0.2\n",
      "22     C -0.048657  0.370598         0.7\n",
      "23     C -0.906836 -0.552846         0.3\n",
      "24     A  1.088824  0.751434         0.8\n",
      "25     A  1.882834  1.708027         1.0\n",
      "26     B -0.597227 -0.584582         0.4\n",
      "27     B  0.480381  0.746685         0.8\n",
      "28     C -0.535324 -0.153080         0.4\n",
      "29     C -0.360935  0.034572         0.5\n",
      "\n"
     ]
    }
   ],
   "execution_count": 163
  },
  {
   "metadata": {
    "ExecuteTime": {
     "end_time": "2025-09-07T01:12:00.683365Z",
     "start_time": "2025-09-07T01:12:00.677215Z"
    }
   },
   "cell_type": "code",
   "source": [
    "# df.rolling() - 윈도우 함수. 시계열 분석, 금융 데이터 분석에서 이동평균, 변동성 계산 등에 활용\n",
    "\n",
    "# 시계열 윈도우 분석\n",
    "ts_data = pd.DataFrame({\n",
    "    'value': np.random.randn(20).cumsum() + 100\n",
    "})\n",
    "print(f'\\n\\n{ts_data}\\n')\n",
    "\n",
    "# 다양한 윈도우 함수 적용\n",
    "ts_data['rolling_mean'] = ts_data['value'].rolling(window=7).mean()\n",
    "ts_data['rolling_std'] = ts_data['value'].rolling(window=7).std()\n",
    "# expanding() - 시계열 데이터의 시작점부터 현재 데이터 지점까지의 모든 데이터를 포함하는 \"윈도우\"를 만들어 계산하는 방식(rolling과의 차이점)\n",
    "ts_data['expanding_mean'] = ts_data['value'].expanding().mean()\n",
    "print(f'\\n\\n{ts_data}\\n')\n",
    "\n",
    "# 사용자 정의 윈도우 함수\n",
    "def rolling_zscore(series):\n",
    "    # 데이터가 1개일 경우, 퍼져있는 정도(산포도) 측정불가. 이 경우 std는 0이 되거나 정의되지 않아, NaN(Not a Number) 또는 0으로 나누기 오류발생하므로 if(series)>1 else 0 조건 처리\n",
    "    return (series.iloc[-1] - series.mean()) / series.std() if len(series) > 1 else 0\n",
    "\n",
    "ts_data['rolling_zscore'] = ts_data['value'].rolling(window=7).apply(rolling_zscore)\n",
    "print(f'\\n\\n{ts_data}\\n')\n"
   ],
   "id": "bdeb916e369cd437",
   "outputs": [
    {
     "name": "stdout",
     "output_type": "stream",
     "text": [
      "\n",
      "\n",
      "         value\n",
      "0   103.105256\n",
      "1   103.011873\n",
      "2   102.640311\n",
      "3   103.314406\n",
      "4   103.451482\n",
      "5   102.784461\n",
      "6   102.778138\n",
      "7   104.087900\n",
      "8   104.595735\n",
      "9   104.840670\n",
      "10  103.869982\n",
      "11  104.865104\n",
      "12  106.019123\n",
      "13  106.305484\n",
      "14  104.150408\n",
      "15  103.740571\n",
      "16  103.156510\n",
      "17  104.797766\n",
      "18  104.286050\n",
      "19  104.201207\n",
      "\n",
      "\n",
      "\n",
      "         value  rolling_mean  rolling_std  expanding_mean\n",
      "0   103.105256           NaN          NaN      103.105256\n",
      "1   103.011873           NaN          NaN      103.058565\n",
      "2   102.640311           NaN          NaN      102.919147\n",
      "3   103.314406           NaN          NaN      103.017962\n",
      "4   103.451482           NaN          NaN      103.104666\n",
      "5   102.784461           NaN          NaN      103.051298\n",
      "6   102.778138    103.012275     0.299418      103.012275\n",
      "7   104.087900    103.152653     0.507985      103.146728\n",
      "8   104.595735    103.378919     0.736272      103.307729\n",
      "9   104.840670    103.693256     0.831876      103.461023\n",
      "10  103.869982    103.772624     0.816059      103.498201\n",
      "11  104.865104    103.974570     0.894485      103.612110\n",
      "12  106.019123    104.436664     1.005795      103.797265\n",
      "13  106.305484    104.940571     0.915975      103.976423\n",
      "14  104.150408    104.949501     0.906533      103.988022\n",
      "15  103.740571    104.827334     1.013467      103.972557\n",
      "16  103.156510    104.586740     1.193662      103.924554\n",
      "17  104.797766    104.719281     1.151578      103.973066\n",
      "18  104.286050    104.636559     1.160123      103.989538\n",
      "19  104.201207    104.376856     0.990055      104.000122\n",
      "\n",
      "\n",
      "\n",
      "         value  rolling_mean  rolling_std  expanding_mean  rolling_zscore\n",
      "0   103.105256           NaN          NaN      103.105256             NaN\n",
      "1   103.011873           NaN          NaN      103.058565             NaN\n",
      "2   102.640311           NaN          NaN      102.919147             NaN\n",
      "3   103.314406           NaN          NaN      103.017962             NaN\n",
      "4   103.451482           NaN          NaN      103.104666             NaN\n",
      "5   102.784461           NaN          NaN      103.051298             NaN\n",
      "6   102.778138    103.012275     0.299418      103.012275       -0.781975\n",
      "7   104.087900    103.152653     0.507985      103.146728        1.841093\n",
      "8   104.595735    103.378919     0.736272      103.307729        1.652671\n",
      "9   104.840670    103.693256     0.831876      103.461023        1.379310\n",
      "10  103.869982    103.772624     0.816059      103.498201        0.119302\n",
      "11  104.865104    103.974570     0.894485      103.612110        0.995583\n",
      "12  106.019123    104.436664     1.005795      103.797265        1.573341\n",
      "13  106.305484    104.940571     0.915975      103.976423        1.490121\n",
      "14  104.150408    104.949501     0.906533      103.988022       -0.881483\n",
      "15  103.740571    104.827334     1.013467      103.972557       -1.072322\n",
      "16  103.156510    104.586740     1.193662      103.924554       -1.198187\n",
      "17  104.797766    104.719281     1.151578      103.973066        0.068154\n",
      "18  104.286050    104.636559     1.160123      103.989538       -0.302130\n",
      "19  104.201207    104.376856     0.990055      104.000122       -0.177414\n",
      "\n"
     ]
    }
   ],
   "execution_count": 164
  },
  {
   "metadata": {
    "ExecuteTime": {
     "end_time": "2025-09-07T01:13:16.386138Z",
     "start_time": "2025-09-07T01:13:16.381382Z"
    }
   },
   "cell_type": "code",
   "source": [
    "# pd.melt() - Wide to Long 변환. 여러 열에 걸쳐 있던 값을 하나의 열로 모으고, 원래 열 이름을를 또 다른 열로 만들어, 데이터를 더 다루기 쉽고 분석에 용이한 형태로 재구성하는 기능(시각화와 통계 분석을 위해 데이터 형태를 재구성에 활용)\n",
    "\n",
    "# Wide 형태 데이터\n",
    "wide_data = pd.DataFrame({\n",
    "    'ID': [1, 2, 3],\n",
    "    'Name': ['Alice', 'Bob', 'Charlie'],\n",
    "    'Q1': [85, 90, 78],\n",
    "    'Q2': [88, 85, 82],\n",
    "    'Q3': [92, 88, 85]\n",
    "})\n",
    "print(f'\\n\\n{wide_data}\\n')\n",
    "\n",
    "# Long 형태로 변환(단일컬럼)\n",
    "long_data = pd.melt(\n",
    "    wide_data,\n",
    "    id_vars=['ID', 'Name'], # 고유 식별자 변수로서, ID와 Name은 형태를 유지하며 기준 축 역할을 함.\n",
    "    var_name='Quarter', # melt한 열들의 이름 지정\n",
    "    value_name='Score' # melt한 열들의 값을 담을 새로운 열 이름 지정\n",
    ")\n",
    "print(f'\\n\\n{long_data}\\n')"
   ],
   "id": "4716dc8594cde6a0",
   "outputs": [
    {
     "name": "stdout",
     "output_type": "stream",
     "text": [
      "\n",
      "\n",
      "   ID     Name  Q1  Q2  Q3\n",
      "0   1    Alice  85  88  92\n",
      "1   2      Bob  90  85  88\n",
      "2   3  Charlie  78  82  85\n",
      "\n",
      "\n",
      "\n",
      "   ID     Name Quarter  Score\n",
      "0   1    Alice      Q1     85\n",
      "1   2      Bob      Q1     90\n",
      "2   3  Charlie      Q1     78\n",
      "3   1    Alice      Q2     88\n",
      "4   2      Bob      Q2     85\n",
      "5   3  Charlie      Q2     82\n",
      "6   1    Alice      Q3     92\n",
      "7   2      Bob      Q3     88\n",
      "8   3  Charlie      Q3     85\n",
      "\n"
     ]
    }
   ],
   "execution_count": 168
  },
  {
   "metadata": {
    "ExecuteTime": {
     "end_time": "2025-09-07T01:50:13.935382Z",
     "start_time": "2025-09-07T01:50:13.923068Z"
    }
   },
   "cell_type": "code",
   "source": [
    "# Wide to Long 변환 멀티 컬럼. (pd.melt + 문자열 처리로도 가능하지만, 직접적인 가공이 필요.)\n",
    "import io\n",
    "\n",
    "# 예시 데이터 생성\n",
    "csv_data = \"\"\"Year,Country,Nominal_Q1,Real_Q1,Core_Q1,Nominal_Q2,Real_Q2,Core_Q2\n",
    "2023,USA,7.0,2.0,5.5,8.5,2.5,6.5\n",
    "2023,KOR,5.0,1.5,4.0,6.0,2.0,5.0\n",
    "\"\"\"\n",
    "wide_df = pd.read_csv(io.StringIO(csv_data))\n",
    "\n",
    "# wide_to_long을 사용하여 변환\n",
    "long_df = pd.wide_to_long(\n",
    "    df=wide_df,\n",
    "    stubnames=['Nominal', 'Real', 'Core'], # 값으로 사용할 열들의 접두사\n",
    "    i=['Year', 'Country'],                # 고유 식별자\n",
    "    j='Quarter',                          # 접미사를 담을 새 열 이름\n",
    "    sep='_',                              # 접두사와 접미사의 구분자\n",
    "    suffix=r'\\w+'                         # 접미사의 형태 (정규표현식)\n",
    ").reset_index()\n",
    "\n",
    "print(long_df)"
   ],
   "id": "15c33acffd63b9d4",
   "outputs": [
    {
     "name": "stdout",
     "output_type": "stream",
     "text": [
      "   Year Country Quarter  Nominal  Real  Core\n",
      "0  2023     USA      Q1      7.0   2.0   5.5\n",
      "1  2023     USA      Q2      8.5   2.5   6.5\n",
      "2  2023     KOR      Q1      5.0   1.5   4.0\n",
      "3  2023     KOR      Q2      6.0   2.0   5.0\n"
     ]
    }
   ],
   "execution_count": 173
  },
  {
   "metadata": {
    "ExecuteTime": {
     "end_time": "2025-09-07T01:15:40.245453Z",
     "start_time": "2025-09-07T01:15:40.239822Z"
    }
   },
   "cell_type": "code",
   "source": [
    "# SVD - 데이터(행렬)를 구성하는 핵심 성분과 그 중요도를 순서대로 분해하는 작업\n",
    "# 목적\n",
    "# 1.차원 축소 (Dimensionality Reduction) 및 데이터 압축. 특이값은 중요도 순으로 정렬되어 있으므로, 값이 매우 작은 특이값들을 0으로 처리하고(무시하고) 데이터를 재구성하면, 원본 데이터와 매우 유사하면서도 훨씬 적은 정보(차원)로 표현된 데이터를 얻을 수 있음\n",
    "# 2.노이즈 제거 (Noise Reduction)\n",
    "# 3.잠재 의미 분석 (Latent Semantic Analysis, LSA) - 추천 시스템이나 자연어 처리에서 사용됩니다. 예를 들어, '사용자-영화 평점' 행렬을 SVD로 분해하면, 눈에 보이지 않던 사용자의 잠재적인 취향(예: 'SF 영화 팬', '로맨틱 코미디 선호')이나 영화의 잠재적인 장르 특성을 U와 V 행렬을 통해 발견할 수 있음\n",
    "\n",
    "# np.linalg.svd() - 특이값 분해\n",
    "\n",
    "A = np.array([[1, 2, 3], [4, 5, 6], [7, 8, 9]], dtype=float)\n",
    "# A - 분석하기 위한 원본 데이터 행렬 (m x n 크기)\n",
    "# U: 왼쪽 특이벡터(Left Singular Vectors) 행렬 (m x m 크기)로서, A의 열(column) 공간에 대한 중요한 방향(축)들을 나타냄. 이 방향들은 서로 직교(orthogonal)해야함. 즉, 데이터의 출력 공간(output space)을 설명하는 새로운 좌표축이라고 생각할 수 있음\n",
    "# Σ (시그마) - 특이값(Singular Values)을 대각선에 담고 있는 행렬 (m x n 크기)로서, U와 V에 있는 각 방향(축)이 원본 데이터 A를 설명하는 데 얼마나 중요한지를 나타내는 중요도\n",
    "# Vᵀ- 오른쪽 특이벡터(Right Singular Vectors)의 전치행렬 (n x n 크기)로서, A의 행(row) 공간에 대한 **중요한 방향(축)**들을 나타냄. 이 방향들 역시 서로 직교합니다. 데이터의 입력 공간(input space)을 설명하는 새로운 좌표축으로 볼 수 있음\n",
    "print(\"SVD 분해: A = U * Σ * V^T\")\n",
    "\n",
    "U, s, Vt = np.linalg.svd(A)\n",
    "\n",
    "print(f\"A 형태: {A.shape}\")\n",
    "print(f\"U 형태: {U.shape} (좌특이벡터)\")\n",
    "print(f\"s 형태: {s.shape} (특이값)\")\n",
    "print(f\"Vt 형태: {Vt.shape} (우특이벡터 전치)\")\n",
    "\n",
    "# 재구성 검증\n",
    "S_matrix = np.diag(s)\n",
    "A_reconstructed = U @ S_matrix @ Vt\n",
    "print(f\"재구성 오차: {np.linalg.norm(A - A_reconstructed):.10f}\")"
   ],
   "id": "96143240d5980a6f",
   "outputs": [
    {
     "name": "stdout",
     "output_type": "stream",
     "text": [
      "SVD 분해: A = U * Σ * V^T\n",
      "A 형태: (3, 3)\n",
      "U 형태: (3, 3) (좌특이벡터)\n",
      "s 형태: (3,) (특이값)\n",
      "Vt 형태: (3, 3) (우특이벡터 전치)\n",
      "재구성 오차: 0.0000000000\n"
     ]
    }
   ],
   "execution_count": 169
  },
  {
   "metadata": {
    "ExecuteTime": {
     "end_time": "2025-09-07T01:16:23.392773Z",
     "start_time": "2025-09-07T01:16:23.376027Z"
    }
   },
   "cell_type": "code",
   "source": [
    "# pd.pivot_table() - 피벗 테이블 알고리즘\n",
    "\n",
    "sales_data = pd.DataFrame({\n",
    "    'Region': ['North', 'South', 'North', 'South'],\n",
    "    'Product': ['A', 'A', 'B', 'B'],\n",
    "    'Sales': [100, 150, 200, 120]\n",
    "})\n",
    "\n",
    "print(\"피벗 테이블 생성 과정:\")\n",
    "print(\"1. 그룹키 조합 생성\")\n",
    "combinations = sales_data.groupby(['Region', 'Product']).groups\n",
    "for combo, indices in combinations.items():\n",
    "    values = sales_data.loc[indices, 'Sales'].values\n",
    "    print(f\"  {combo}: 합계 {values.sum()}\")\n",
    "\n",
    "print(\"\\n2. 2차원 테이블 재구성\")\n",
    "pivot = pd.pivot_table(sales_data, values='Sales', index='Region', columns='Product', aggfunc='sum')\n",
    "print(pivot)"
   ],
   "id": "3ca479ed2a797baf",
   "outputs": [
    {
     "name": "stdout",
     "output_type": "stream",
     "text": [
      "피벗 테이블 생성 과정:\n",
      "1. 그룹키 조합 생성\n",
      "  ('North', 'A'): 합계 100\n",
      "  ('North', 'B'): 합계 200\n",
      "  ('South', 'A'): 합계 150\n",
      "  ('South', 'B'): 합계 120\n",
      "\n",
      "2. 2차원 테이블 재구성\n",
      "Product    A    B\n",
      "Region           \n",
      "North    100  200\n",
      "South    150  120\n"
     ]
    }
   ],
   "execution_count": 170
  },
  {
   "metadata": {
    "ExecuteTime": {
     "end_time": "2025-09-07T02:05:48.645029Z",
     "start_time": "2025-09-07T02:05:48.639708Z"
    }
   },
   "cell_type": "code",
   "source": [
    "# pd.cut() & pd.qcut() - 구간화 알고리즘\n",
    "\n",
    "data = np.array([20, 30, 35, 40, 45, 50, 55, 60, 65, 70])\n",
    "\n",
    "# cut() - 동일 너비\n",
    "print(\"pd.cut() 알고리즘:\")\n",
    "n_bins = 4\n",
    "min_val, max_val = data.min(), data.max()\n",
    "bin_width = (max_val - min_val) / n_bins\n",
    "bin_edges = np.linspace(min_val, max_val, n_bins + 1)\n",
    "\n",
    "print(f\"구간 너비: {bin_width}\")\n",
    "print(f\"구간 경계: {bin_edges}\")\n",
    "\n",
    "# cut() - 동일 너비\n",
    "print(\"\\npd.cut() 사용:\")\n",
    "cut_result, bin_edges = pd.cut(data, bins=4, retbins=True)\n",
    "print(f\"계산된 구간 경계: {bin_edges}\")\n",
    "print(f\"각 데이터가 속한 구간:\\n{cut_result}\")\n",
    "\n",
    "# qcut() - 동일 빈도\n",
    "print(\"\\npd.qcut() 알고리즘:\")\n",
    "quantiles = np.linspace(0, 1, n_bins + 1)\n",
    "quantile_edges = np.quantile(data, quantiles)\n",
    "print(f\"분위수: {quantiles}\")\n",
    "print(f\"분위수 값: {quantile_edges}\")\n",
    "\n",
    "# qcut() - 동일 빈도\n",
    "print(\"\\npd.qcut() 사용:\")\n",
    "qcut_result, quantile_edges = pd.qcut(data, q=4, retbins=True)\n",
    "print(f\"계산된 분위수 경계: {quantile_edges}\")\n",
    "print(f\"각 데이터가 속한 구간:\\n{qcut_result}\")\n",
    "\n"
   ],
   "id": "834c17de6770689e",
   "outputs": [
    {
     "name": "stdout",
     "output_type": "stream",
     "text": [
      "pd.cut() 알고리즘:\n",
      "구간 너비: 12.5\n",
      "구간 경계: [20.  32.5 45.  57.5 70. ]\n",
      "\n",
      "pd.cut() 사용:\n",
      "계산된 구간 경계: [19.95 32.5  45.   57.5  70.  ]\n",
      "각 데이터가 속한 구간:\n",
      "[(19.95, 32.5], (19.95, 32.5], (32.5, 45.0], (32.5, 45.0], (32.5, 45.0], (45.0, 57.5], (45.0, 57.5], (57.5, 70.0], (57.5, 70.0], (57.5, 70.0]]\n",
      "Categories (4, interval[float64, right]): [(19.95, 32.5] < (32.5, 45.0] < (45.0, 57.5] < (57.5, 70.0]]\n",
      "\n",
      "pd.qcut() 알고리즘:\n",
      "분위수: [0.   0.25 0.5  0.75 1.  ]\n",
      "분위수 값: [20.   36.25 47.5  58.75 70.  ]\n",
      "\n",
      "pd.qcut() 사용:\n",
      "계산된 분위수 경계: [20.   36.25 47.5  58.75 70.  ]\n",
      "각 데이터가 속한 구간:\n",
      "[(19.999, 36.25], (19.999, 36.25], (19.999, 36.25], (36.25, 47.5], (36.25, 47.5], (47.5, 58.75], (47.5, 58.75], (58.75, 70.0], (58.75, 70.0], (58.75, 70.0]]\n",
      "Categories (4, interval[float64, right]): [(19.999, 36.25] < (36.25, 47.5] < (47.5, 58.75] < (58.75, 70.0]]\n"
     ]
    }
   ],
   "execution_count": 178
  },
  {
   "metadata": {
    "ExecuteTime": {
     "end_time": "2025-09-07T01:18:02.746495Z",
     "start_time": "2025-09-07T01:18:02.744023Z"
    }
   },
   "cell_type": "code",
   "source": [
    "# pd.crosstab() - 교차표 생성\n",
    "\n",
    "# 교차표 알고리즘 단계별 분석\n",
    "gender = np.array(['M', 'F', 'M', 'F', 'M'])\n",
    "education = np.array(['College', 'High School', 'Graduate', 'College', 'High School'])\n",
    "\n",
    "print(\"Crosstab 생성 과정:\")\n",
    "print(\"1. 고유값 추출\")\n",
    "unique_genders = np.unique(gender)\n",
    "unique_educations = np.unique(education)\n",
    "\n",
    "print(\"2. 조합별 카운팅\")\n",
    "for g in unique_genders:\n",
    "    for e in unique_educations:\n",
    "        count = np.sum((gender == g) & (education == e))\n",
    "        print(f\"  {g} × {e}: {count}개\")"
   ],
   "id": "6f4fe8568fba7301",
   "outputs": [
    {
     "name": "stdout",
     "output_type": "stream",
     "text": [
      "Crosstab 생성 과정:\n",
      "1. 고유값 추출\n",
      "2. 조합별 카운팅\n",
      "  F × College: 1개\n",
      "  F × Graduate: 0개\n",
      "  F × High School: 1개\n",
      "  M × College: 1개\n",
      "  M × Graduate: 1개\n",
      "  M × High School: 1개\n"
     ]
    }
   ],
   "execution_count": 172
  }
 ],
 "metadata": {
  "kernelspec": {
   "display_name": "Python 3",
   "language": "python",
   "name": "python3"
  },
  "language_info": {
   "codemirror_mode": {
    "name": "ipython",
    "version": 2
   },
   "file_extension": ".py",
   "mimetype": "text/x-python",
   "name": "python",
   "nbconvert_exporter": "python",
   "pygments_lexer": "ipython2",
   "version": "2.7.6"
  }
 },
 "nbformat": 4,
 "nbformat_minor": 5
}
