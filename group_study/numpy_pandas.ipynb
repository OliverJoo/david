{
 "cells": [
  {
   "metadata": {},
   "cell_type": "markdown",
   "source": "# Numpy",
   "id": "4f2883879da51902"
  },
  {
   "metadata": {
    "ExecuteTime": {
     "end_time": "2025-09-05T04:53:30.120214Z",
     "start_time": "2025-09-05T04:53:29.848172Z"
    }
   },
   "cell_type": "code",
   "source": [
    "import numpy as np\n",
    "import pandas as pd\n",
    "from numpy import dtype"
   ],
   "id": "cb93027cbb66f6c9",
   "outputs": [],
   "execution_count": 2
  },
  {
   "metadata": {
    "ExecuteTime": {
     "end_time": "2025-09-05T07:09:47.893084Z",
     "start_time": "2025-09-05T07:09:47.889332Z"
    }
   },
   "cell_type": "code",
   "source": [
    "zeros_array = np.zeros((3, 4))\n",
    "zeros_array\n",
    "# np.ones((2, 3))"
   ],
   "id": "dd4b6d81151dab49",
   "outputs": [
    {
     "data": {
      "text/plain": [
       "array([[0., 0., 0., 0.],\n",
       "       [0., 0., 0., 0.],\n",
       "       [0., 0., 0., 0.]])"
      ]
     },
     "execution_count": 93,
     "metadata": {},
     "output_type": "execute_result"
    }
   ],
   "execution_count": 93
  },
  {
   "metadata": {
    "ExecuteTime": {
     "end_time": "2025-09-05T07:13:40.004979Z",
     "start_time": "2025-09-05T07:13:40.002008Z"
    }
   },
   "cell_type": "code",
   "source": [
    "# np.ones(15, dtype=bool).reshape(5, 3)\n",
    "np.full(15, True, dtype=bool).reshape(5, 3)"
   ],
   "id": "26ec5d5a0895f938",
   "outputs": [
    {
     "data": {
      "text/plain": [
       "array([[ True,  True,  True],\n",
       "       [ True,  True,  True],\n",
       "       [ True,  True,  True],\n",
       "       [ True,  True,  True],\n",
       "       [ True,  True,  True]])"
      ]
     },
     "execution_count": 112,
     "metadata": {},
     "output_type": "execute_result"
    }
   ],
   "execution_count": 112
  },
  {
   "metadata": {
    "ExecuteTime": {
     "end_time": "2025-09-05T07:14:02.065977Z",
     "start_time": "2025-09-05T07:14:02.063749Z"
    }
   },
   "cell_type": "code",
   "source": [
    "# np.zeros(15, dtype=bool).reshape(5, 3)\n",
    "# np.full(15, False, dtype=bool).reshape(5, 3)\n",
    "~np.full(15, True, dtype=bool).reshape(5, 3)"
   ],
   "id": "f8546ebcb5becac",
   "outputs": [
    {
     "data": {
      "text/plain": [
       "array([[False, False, False],\n",
       "       [False, False, False],\n",
       "       [False, False, False],\n",
       "       [False, False, False],\n",
       "       [False, False, False]])"
      ]
     },
     "execution_count": 113,
     "metadata": {},
     "output_type": "execute_result"
    }
   ],
   "execution_count": 113
  },
  {
   "metadata": {
    "ExecuteTime": {
     "end_time": "2025-09-05T07:15:08.308594Z",
     "start_time": "2025-09-05T07:15:08.305847Z"
    }
   },
   "cell_type": "code",
   "source": [
    "# np.arange(14)\n",
    "# np.arange(0, 14, 2)\n",
    "arr = np.arange(12).reshape(4, 3)\n",
    "# arr = arr.reshape(-1)\n",
    "arr"
   ],
   "id": "8e20e9332314ddb0",
   "outputs": [
    {
     "data": {
      "text/plain": [
       "array([[ 0,  1,  2],\n",
       "       [ 3,  4,  5],\n",
       "       [ 6,  7,  8],\n",
       "       [ 9, 10, 11]])"
      ]
     },
     "execution_count": 116,
     "metadata": {},
     "output_type": "execute_result"
    }
   ],
   "execution_count": 116
  },
  {
   "metadata": {
    "ExecuteTime": {
     "end_time": "2025-09-05T07:39:30.458118Z",
     "start_time": "2025-09-05T07:39:30.455401Z"
    }
   },
   "cell_type": "code",
   "source": [
    "# np.sum(arr)\n",
    "# np.sum(arr, axis=1)\n",
    "# np.mean(arr)\n",
    "# np.mean(arr, axis=1)\n",
    "# np.mod(arr, 2)\n",
    "# np.where(arr > 4, arr, 0)\n",
    "# np.random.normal() # 정규분포 난수\n",
    "np.random.normal(0, 1, 30) # 평균 0, 표준편차 1\n",
    "# np.dot(np.arange(12).reshape(3, 4), arr)"
   ],
   "id": "6eeba0f94b06c7fa",
   "outputs": [
    {
     "data": {
      "text/plain": [
       "array([-0.19330019,  0.88124547, -0.8707687 ,  0.81488346,  0.58645017,\n",
       "       -0.55488937, -0.32322683, -0.12320271,  1.35406   ,  0.57612942,\n",
       "       -1.73707828, -0.78038137, -0.41727292,  0.52887787, -1.66687497,\n",
       "       -0.94241094,  0.42369966, -0.33425453, -0.41583465,  0.62863443,\n",
       "        1.45376311,  0.97711017, -2.30115819, -0.02112213, -1.54907248,\n",
       "        1.67597808, -0.9734414 ,  0.371848  ,  2.25211979,  1.37633686])"
      ]
     },
     "execution_count": 131,
     "metadata": {},
     "output_type": "execute_result"
    }
   ],
   "execution_count": 131
  },
  {
   "metadata": {
    "ExecuteTime": {
     "end_time": "2025-09-05T07:44:56.825906Z",
     "start_time": "2025-09-05T07:44:56.822793Z"
    }
   },
   "cell_type": "code",
   "source": [
    "import numpy as np\n",
    "\n",
    "# 행렬 곱셈을 einsum으로\n",
    "A = np.array([[1, 2], [3, 4]])\n",
    "B = np.array([[5, 6], [7, 8]])\n",
    "result = np.einsum('ij,jk->ik', A, B)\n",
    "print(result)\n",
    "# 출력: [[19 22]\n",
    "#        [43 50]]\n",
    "\n",
    "# 복잡한 텐서 연산 - 배치 행렬 곱셈\n",
    "batch_A = np.random.rand(3, 2, 2)\n",
    "batch_B = np.random.rand(3, 2, 2)\n",
    "batch_result = np.einsum('bij,bjk->bik', batch_A, batch_B)\n",
    "# 배치 크기 3에서 각각 2x2 행렬곱 수행\n",
    "print(f'\\n\\n---batch_A ---\\n{batch_A}')\n",
    "print(f'\\n\\n---batch_B ---\\n{batch_B}')\n",
    "print(f'\\n\\n---batch_result ---\\n{batch_result}')"
   ],
   "id": "b56f5f8f8f255d45",
   "outputs": [
    {
     "name": "stdout",
     "output_type": "stream",
     "text": [
      "[[19 22]\n",
      " [43 50]]\n",
      "\n",
      "\n",
      "---batch_A ---\n",
      "[[[0.47223315 0.11948858]\n",
      "  [0.25363371 0.41065016]]\n",
      "\n",
      " [[0.86241702 0.00349007]\n",
      "  [0.29073748 0.71298443]]\n",
      "\n",
      " [[0.99711196 0.23620652]\n",
      "  [0.9478744  0.47901527]]]\n",
      "\n",
      "\n",
      "---batch_B ---\n",
      "[[[0.00687013 0.36164277]\n",
      "  [0.34973817 0.38229702]]\n",
      "\n",
      " [[0.10990699 0.80157972]\n",
      "  [0.74597995 0.00791478]]\n",
      "\n",
      " [[0.33910927 0.82163832]\n",
      "  [0.56101606 0.99955991]]]\n",
      "\n",
      "\n",
      "---batch_result ---\n",
      "[[[0.04503402 0.21645984]\n",
      "  [0.14536253 0.24871513]]\n",
      "\n",
      " [[0.09738918 0.69132361]\n",
      "  [0.56382617 0.23869238]]\n",
      "\n",
      " [[0.47064556 1.05536796]\n",
      "  [0.59016825 1.25761439]]]\n"
     ]
    }
   ],
   "execution_count": 139
  },
  {
   "metadata": {
    "ExecuteTime": {
     "end_time": "2025-09-05T07:28:40.770385Z",
     "start_time": "2025-09-05T07:28:40.767885Z"
    }
   },
   "cell_type": "code",
   "source": [
    "data = np.random.randint(1, 100, 30)\n",
    "\n",
    "print(f\"원본 데이터: {data}\")\n",
    "\n",
    "# False로 초기화된 마스크 생성\n",
    "mask = np.zeros(30, dtype=bool)\n",
    "print(mask)\n",
    "# 조건에 따라 마스크 업데이트\n",
    "mask[data > 50] = True  # 50보다 큰 값들만 True로 변경\n",
    "\n",
    "print(f'\\n\\n{mask}')"
   ],
   "id": "5c40a91dccf5cbb",
   "outputs": [
    {
     "name": "stdout",
     "output_type": "stream",
     "text": [
      "원본 데이터: [54 55 83 56 75 22 61 80 64 84 31 92 58 73 71 71  3 53 41 66 24 27 11 15\n",
      " 10 51 40 58 18 51]\n",
      "[False False False False False False False False False False False False\n",
      " False False False False False False False False False False False False\n",
      " False False False False False False]\n",
      "\n",
      "\n",
      "[ True  True  True  True  True False  True  True  True  True False  True\n",
      "  True  True  True  True False  True False  True False False False False\n",
      " False  True False  True False  True]\n"
     ]
    }
   ],
   "execution_count": 128
  },
  {
   "metadata": {},
   "cell_type": "markdown",
   "source": "# Pandas",
   "id": "d23472a74bbd5e5c"
  },
  {
   "metadata": {
    "ExecuteTime": {
     "end_time": "2025-09-05T07:08:20.219085Z",
     "start_time": "2025-09-05T07:08:20.206145Z"
    }
   },
   "cell_type": "code",
   "source": [
    "data = {\n",
    "    'name': ['Alice', 'Bob', 'Charlie'],\n",
    "    'age': [25, 30, 35],\n",
    "    'salary': [50000, 60000, 70000]\n",
    "}\n",
    "df = pd.DataFrame(data)\n",
    "print(f'{df.info()}\\n\\n{df.describe()}\\n\\n{df.head(2)}\\n\\n{df.tail(1)}')"
   ],
   "id": "60d35cd510f607fd",
   "outputs": [
    {
     "name": "stdout",
     "output_type": "stream",
     "text": [
      "<class 'pandas.core.frame.DataFrame'>\n",
      "RangeIndex: 3 entries, 0 to 2\n",
      "Data columns (total 3 columns):\n",
      " #   Column  Non-Null Count  Dtype \n",
      "---  ------  --------------  ----- \n",
      " 0   name    3 non-null      object\n",
      " 1   age     3 non-null      int64 \n",
      " 2   salary  3 non-null      int64 \n",
      "dtypes: int64(2), object(1)\n",
      "memory usage: 204.0+ bytes\n",
      "None\n",
      "\n",
      "        age   salary\n",
      "count   3.0      3.0\n",
      "mean   30.0  60000.0\n",
      "std     5.0  10000.0\n",
      "min    25.0  50000.0\n",
      "25%    27.5  55000.0\n",
      "50%    30.0  60000.0\n",
      "75%    32.5  65000.0\n",
      "max    35.0  70000.0\n",
      "\n",
      "    name  age  salary\n",
      "0  Alice   25   50000\n",
      "1    Bob   30   60000\n",
      "\n",
      "      name  age  salary\n",
      "2  Charlie   35   70000\n"
     ]
    }
   ],
   "execution_count": 89
  },
  {
   "metadata": {
    "ExecuteTime": {
     "end_time": "2025-09-05T07:25:01.203866Z",
     "start_time": "2025-09-05T07:25:01.196106Z"
    }
   },
   "cell_type": "code",
   "source": [
    "# 7. 컬럼 선택\n",
    "ages = df['age']  # 단일 컬럼\n",
    "subset = df[['name', 'age']]  # 복수 컬럼\n",
    "\n",
    "# 8. 인덱싱\n",
    "row_data = df.loc[0]  # 라벨 기반\n",
    "cell_value = df.iloc[0, 1]  # 위치 기반\n",
    "\n",
    "# 9. apply() - 사용자 정의 함수 적용\n",
    "df['age_category'] = df['age'].apply(lambda x: 'Young' if x < 30 else 'Senior')\n",
    "\n",
    "# 10. merge() - 데이터 병합\n",
    "# merged = pd.merge(df1, df2, on='key_column')\n",
    "df"
   ],
   "id": "ff6141f6da9b2c5",
   "outputs": [
    {
     "data": {
      "text/plain": [
       "      name  age  salary age_category\n",
       "0    Alice   25   50000        Young\n",
       "1      Bob   30   60000       Senior\n",
       "2  Charlie   35   70000       Senior"
      ],
      "text/html": [
       "<div>\n",
       "<style scoped>\n",
       "    .dataframe tbody tr th:only-of-type {\n",
       "        vertical-align: middle;\n",
       "    }\n",
       "\n",
       "    .dataframe tbody tr th {\n",
       "        vertical-align: top;\n",
       "    }\n",
       "\n",
       "    .dataframe thead th {\n",
       "        text-align: right;\n",
       "    }\n",
       "</style>\n",
       "<table border=\"1\" class=\"dataframe\">\n",
       "  <thead>\n",
       "    <tr style=\"text-align: right;\">\n",
       "      <th></th>\n",
       "      <th>name</th>\n",
       "      <th>age</th>\n",
       "      <th>salary</th>\n",
       "      <th>age_category</th>\n",
       "    </tr>\n",
       "  </thead>\n",
       "  <tbody>\n",
       "    <tr>\n",
       "      <th>0</th>\n",
       "      <td>Alice</td>\n",
       "      <td>25</td>\n",
       "      <td>50000</td>\n",
       "      <td>Young</td>\n",
       "    </tr>\n",
       "    <tr>\n",
       "      <th>1</th>\n",
       "      <td>Bob</td>\n",
       "      <td>30</td>\n",
       "      <td>60000</td>\n",
       "      <td>Senior</td>\n",
       "    </tr>\n",
       "    <tr>\n",
       "      <th>2</th>\n",
       "      <td>Charlie</td>\n",
       "      <td>35</td>\n",
       "      <td>70000</td>\n",
       "      <td>Senior</td>\n",
       "    </tr>\n",
       "  </tbody>\n",
       "</table>\n",
       "</div>"
      ]
     },
     "execution_count": 117,
     "metadata": {},
     "output_type": "execute_result"
    }
   ],
   "execution_count": 117
  },
  {
   "metadata": {
    "ExecuteTime": {
     "end_time": "2025-09-05T07:25:30.227948Z",
     "start_time": "2025-09-05T07:25:30.210172Z"
    }
   },
   "cell_type": "code",
   "source": "df",
   "id": "956fc591dc92e70f",
   "outputs": [
    {
     "ename": "NameError",
     "evalue": "name 'age' is not defined",
     "output_type": "error",
     "traceback": [
      "\u001B[31m---------------------------------------------------------------------------\u001B[39m",
      "\u001B[31mNameError\u001B[39m                                 Traceback (most recent call last)",
      "\u001B[36mCell\u001B[39m\u001B[36m \u001B[39m\u001B[32mIn[119]\u001B[39m\u001B[32m, line 1\u001B[39m\n\u001B[32m----> \u001B[39m\u001B[32m1\u001B[39m df[age == \u001B[32m30\u001B[39m]\n",
      "\u001B[31mNameError\u001B[39m: name 'age' is not defined"
     ]
    }
   ],
   "execution_count": 119
  },
  {
   "metadata": {
    "ExecuteTime": {
     "end_time": "2025-09-05T07:05:58.218039Z",
     "start_time": "2025-09-05T07:05:58.211566Z"
    }
   },
   "cell_type": "code",
   "source": [
    "series = pd.Series([10, 20, 30, 40], index=['a', 'b', 'c', 'd'])\n",
    "series"
   ],
   "id": "5b1f60cadab09b82",
   "outputs": [
    {
     "data": {
      "text/plain": [
       "a    10\n",
       "b    20\n",
       "c    30\n",
       "d    40\n",
       "dtype: int64"
      ]
     },
     "execution_count": 79,
     "metadata": {},
     "output_type": "execute_result"
    }
   ],
   "execution_count": 79
  },
  {
   "metadata": {
    "ExecuteTime": {
     "end_time": "2025-09-05T07:05:36.436982Z",
     "start_time": "2025-09-05T07:05:36.428364Z"
    }
   },
   "cell_type": "code",
   "source": "",
   "id": "a8cfd3618c4c5e91",
   "outputs": [
    {
     "data": {
      "text/plain": [
       "      name  age  salary\n",
       "0    Alice   25   50000\n",
       "1      Bob   30   60000\n",
       "2  Charlie   35   70000"
      ],
      "text/html": [
       "<div>\n",
       "<style scoped>\n",
       "    .dataframe tbody tr th:only-of-type {\n",
       "        vertical-align: middle;\n",
       "    }\n",
       "\n",
       "    .dataframe tbody tr th {\n",
       "        vertical-align: top;\n",
       "    }\n",
       "\n",
       "    .dataframe thead th {\n",
       "        text-align: right;\n",
       "    }\n",
       "</style>\n",
       "<table border=\"1\" class=\"dataframe\">\n",
       "  <thead>\n",
       "    <tr style=\"text-align: right;\">\n",
       "      <th></th>\n",
       "      <th>name</th>\n",
       "      <th>age</th>\n",
       "      <th>salary</th>\n",
       "    </tr>\n",
       "  </thead>\n",
       "  <tbody>\n",
       "    <tr>\n",
       "      <th>0</th>\n",
       "      <td>Alice</td>\n",
       "      <td>25</td>\n",
       "      <td>50000</td>\n",
       "    </tr>\n",
       "    <tr>\n",
       "      <th>1</th>\n",
       "      <td>Bob</td>\n",
       "      <td>30</td>\n",
       "      <td>60000</td>\n",
       "    </tr>\n",
       "    <tr>\n",
       "      <th>2</th>\n",
       "      <td>Charlie</td>\n",
       "      <td>35</td>\n",
       "      <td>70000</td>\n",
       "    </tr>\n",
       "  </tbody>\n",
       "</table>\n",
       "</div>"
      ]
     },
     "execution_count": 77,
     "metadata": {},
     "output_type": "execute_result"
    }
   ],
   "execution_count": 77
  },
  {
   "metadata": {},
   "cell_type": "code",
   "outputs": [],
   "execution_count": null,
   "source": "",
   "id": "7aecf65e4d6c1859"
  },
  {
   "metadata": {},
   "cell_type": "code",
   "outputs": [],
   "execution_count": null,
   "source": "",
   "id": "e83327801402566"
  },
  {
   "metadata": {},
   "cell_type": "code",
   "outputs": [],
   "execution_count": null,
   "source": "",
   "id": "bdeb916e369cd437"
  },
  {
   "metadata": {},
   "cell_type": "code",
   "outputs": [],
   "execution_count": null,
   "source": "",
   "id": "4716dc8594cde6a0"
  },
  {
   "metadata": {},
   "cell_type": "code",
   "outputs": [],
   "execution_count": null,
   "source": "",
   "id": "96143240d5980a6f"
  },
  {
   "metadata": {},
   "cell_type": "code",
   "outputs": [],
   "execution_count": null,
   "source": "",
   "id": "3ca479ed2a797baf"
  },
  {
   "metadata": {},
   "cell_type": "code",
   "outputs": [],
   "execution_count": null,
   "source": "",
   "id": "834c17de6770689e"
  },
  {
   "metadata": {},
   "cell_type": "code",
   "outputs": [],
   "execution_count": null,
   "source": "",
   "id": "6f4fe8568fba7301"
  }
 ],
 "metadata": {
  "kernelspec": {
   "display_name": "Python 3",
   "language": "python",
   "name": "python3"
  },
  "language_info": {
   "codemirror_mode": {
    "name": "ipython",
    "version": 2
   },
   "file_extension": ".py",
   "mimetype": "text/x-python",
   "name": "python",
   "nbconvert_exporter": "python",
   "pygments_lexer": "ipython2",
   "version": "2.7.6"
  }
 },
 "nbformat": 4,
 "nbformat_minor": 5
}
